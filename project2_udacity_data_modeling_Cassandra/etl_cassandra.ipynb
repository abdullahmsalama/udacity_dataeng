{
 "cells": [
  {
   "cell_type": "markdown",
   "metadata": {
    "editable": true
   },
   "source": [
    "# Part I. ETL Pipeline for Pre-Processing the Files"
   ]
  },
  {
   "cell_type": "markdown",
   "metadata": {
    "editable": true
   },
   "source": [
    "## PLEASE RUN THE FOLLOWING CODE FOR PRE-PROCESSING THE FILES"
   ]
  },
  {
   "cell_type": "markdown",
   "metadata": {
    "editable": true
   },
   "source": [
    "#### Import Python packages "
   ]
  },
  {
   "cell_type": "code",
   "execution_count": 1,
   "metadata": {
    "editable": true
   },
   "outputs": [],
   "source": [
    "# Import Python packages \n",
    "import pandas as pd\n",
    "import cassandra\n",
    "import re\n",
    "import os\n",
    "import glob\n",
    "import numpy as np\n",
    "import json\n",
    "import csv"
   ]
  },
  {
   "cell_type": "markdown",
   "metadata": {
    "editable": true
   },
   "source": [
    "#### Creating list of filepaths to process original event csv data files"
   ]
  },
  {
   "cell_type": "code",
   "execution_count": 2,
   "metadata": {
    "editable": true
   },
   "outputs": [
    {
     "name": "stdout",
     "output_type": "stream",
     "text": [
      "/home/workspace\n"
     ]
    }
   ],
   "source": [
    "# checking your current working directory\n",
    "print(os.getcwd())\n",
    "\n",
    "# Get your current folder and subfolder event data\n",
    "filepath = os.getcwd() + '/event_data'\n",
    "\n",
    "#read all csv files in the event_data folder \n",
    "file_path_list = glob.glob(os.path.join(filepath,'*.csv'))\n",
    "#print(file_path_list)"
   ]
  },
  {
   "cell_type": "markdown",
   "metadata": {
    "editable": true
   },
   "source": [
    "#### Processing the files to create the data file csv that will be used for Apache Casssandra tables"
   ]
  },
  {
   "cell_type": "code",
   "execution_count": 3,
   "metadata": {
    "editable": true
   },
   "outputs": [],
   "source": [
    "# initiating an empty list of rows that will be generated from each file\n",
    "full_data_rows_list = [] \n",
    "    \n",
    "# for every filepath in the file path list \n",
    "for f in file_path_list:\n",
    "# reading csv file \n",
    "    with open(f, 'r', encoding = 'utf8', newline='') as csvfile: \n",
    "        # creating a csv reader object \n",
    "        csvreader = csv.reader(csvfile) \n",
    "        next(csvreader)\n",
    "        \n",
    " # extracting each data row one by one and append it        \n",
    "        for line in csvreader:\n",
    "            #print(line)\n",
    "            full_data_rows_list.append(line)\n",
    "\n",
    "# uncomment the code below if you would like to get total number of rows \n",
    "#print(len(full_data_rows_list))\n",
    "# uncomment the code below if you would like to check to see what the list of event data rows will look like\n",
    "#print(full_data_rows_list)\n",
    "\n",
    "# creating a smaller event data csv file called event_datafile_full csv that will be used to insert data into the \\\n",
    "# Apache Cassandra tables\n",
    "csv.register_dialect('myDialect', quoting=csv.QUOTE_ALL, skipinitialspace=True)\n",
    "\n",
    "headers = ['artist','firstName','gender','itemInSession','lastName','length',\\\n",
    "                'level','location','sessionId','song','userId']\n",
    "with open('event_datafile_new.csv', 'w', encoding = 'utf8', newline='') as f:\n",
    "    writer = csv.writer(f, dialect='myDialect')\n",
    "    writer.writerow(headers)\n",
    "    for row in full_data_rows_list:\n",
    "        if (row[0] == ''):\n",
    "            continue\n",
    "        writer.writerow((row[0], row[2], row[3], row[4], row[5], row[6], row[7], row[8], row[12], row[13], row[16]))\n"
   ]
  },
  {
   "cell_type": "code",
   "execution_count": 4,
   "metadata": {
    "editable": true
   },
   "outputs": [
    {
     "name": "stdout",
     "output_type": "stream",
     "text": [
      "6821\n"
     ]
    }
   ],
   "source": [
    "# check the number of rows in your csv file\n",
    "with open('event_datafile_new.csv', 'r', encoding = 'utf8') as f:\n",
    "    print(sum(1 for line in f))"
   ]
  },
  {
   "cell_type": "markdown",
   "metadata": {
    "editable": true
   },
   "source": [
    "# Part II. Appache Cassandra part\n",
    "\n",
    "## Now you are ready to work with the CSV file titled <font color=red>event_datafile_new.csv</font>, located within the Workspace directory.  The event_datafile_new.csv contains the following columns: \n",
    "- artist \n",
    "- firstName of user\n",
    "- gender of user\n",
    "- item number in session\n",
    "- last name of user\n",
    "- length of the song\n",
    "- level (paid or free song)\n",
    "- location of the user\n",
    "- sessionId\n",
    "- song title\n",
    "- userId\n",
    "\n",
    "The image below is a screenshot of what the denormalized data should appear like in the <font color=red>**event_datafile_new.csv**</font> after the code above is run:<br>\n",
    "\n",
    "<img src=\"images/image_event_datafile_new.jpg\">"
   ]
  },
  {
   "cell_type": "markdown",
   "metadata": {
    "editable": true
   },
   "source": [
    "#### Creating a Cluster"
   ]
  },
  {
   "cell_type": "code",
   "execution_count": 5,
   "metadata": {
    "editable": true
   },
   "outputs": [],
   "source": [
    "# This should make a connection to a Cassandra instance your local machine \n",
    "# (127.0.0.1)\n",
    "\n",
    "from cassandra.cluster import Cluster\n",
    "cluster = Cluster()\n",
    "\n",
    "# To establish connection and begin executing queries, need a session\n",
    "session = cluster.connect()"
   ]
  },
  {
   "cell_type": "markdown",
   "metadata": {
    "editable": true
   },
   "source": [
    "#### Create Keyspace"
   ]
  },
  {
   "cell_type": "code",
   "execution_count": 6,
   "metadata": {
    "editable": true
   },
   "outputs": [],
   "source": [
    "try:\n",
    "    session.execute(\"\"\"\n",
    "    CREATE KEYSPACE IF NOT EXISTS cassandra_project_keyspace \n",
    "    WITH REPLICATION = \n",
    "    { 'class' : 'SimpleStrategy', 'replication_factor' : 1 }\"\"\"\n",
    ")\n",
    "\n",
    "except Exception as e:\n",
    "    print(e)"
   ]
  },
  {
   "cell_type": "markdown",
   "metadata": {
    "editable": true
   },
   "source": [
    "#### Set Keyspace"
   ]
  },
  {
   "cell_type": "code",
   "execution_count": 7,
   "metadata": {
    "editable": true
   },
   "outputs": [],
   "source": [
    "try:\n",
    "    session.set_keyspace('cassandra_project_keyspace')\n",
    "except Exception as e:\n",
    "    print(e)"
   ]
  },
  {
   "cell_type": "markdown",
   "metadata": {
    "editable": true
   },
   "source": [
    "### Now we need to create tables to run the following queries."
   ]
  },
  {
   "cell_type": "markdown",
   "metadata": {
    "editable": true
   },
   "source": [
    "## Create queries to ask the following three questions of the data\n",
    "\n",
    "### 1. Give me the artist, song title and song's length in the music app history that was heard during  sessionId = 338, and itemInSession  = 4\n",
    "\n",
    "\n",
    "### 2. Give me only the following: name of artist, song (sorted by itemInSession) and user (first and last name) for userid = 10, sessionid = 182\n",
    "    \n",
    "\n",
    "### 3. Give me every user name (first and last) in my music app history who listened to the song 'All Hands Against His Own'\n",
    "\n",
    "\n"
   ]
  },
  {
   "cell_type": "markdown",
   "metadata": {
    "editable": true
   },
   "source": [
    "### <u>All 3 tables will be created in the next 3 cells </u>\n"
   ]
  },
  {
   "cell_type": "markdown",
   "metadata": {
    "editable": true
   },
   "source": [
    "### Query 1:  Give me the artist, song title and song's length in the music app history that was heard during sessionId = 338, and itemInSession = 4\n",
    "### The music_history table is designed based on the wanted query based on conditions sessionId and itemInSession, so they both were chosen as partition keys. This way the tuple sessionId and itemInSession will be always unique."
   ]
  },
  {
   "cell_type": "code",
   "execution_count": 8,
   "metadata": {
    "editable": true
   },
   "outputs": [],
   "source": [
    "# First drop the table in case it exists\n",
    "try:\n",
    "    rows = session.execute(\"drop table if exists music_history\")\n",
    "except Exception as e:\n",
    "    print(e)\n",
    "    \n",
    "# Then create the table\n",
    "try:\n",
    "    rows = session.execute(\"\"\"create table if not exists music_history (sessionId int,\n",
    "    itemInSession int, artist text, song text, length float, primary key (sessionId, itemInSession))\"\"\")\n",
    "except Exception as e:\n",
    "    print(e)"
   ]
  },
  {
   "cell_type": "markdown",
   "metadata": {
    "editable": true
   },
   "source": [
    "### Query 2: Give me only the following: name of artist, song (sorted by itemInSession) and user (first and last name) for userid = 10, sessionid = 182\n",
    "\n",
    "### The user table is designed so that the partition keys are userId and sessionid based on the wanted query since they are shown as the partition keys,  and since the song should be sorted by itemInSession, then itemInSession was created as the clustering key. this way the tuple userId, sessionId and itemInSession will be always unique"
   ]
  },
  {
   "cell_type": "code",
   "execution_count": 9,
   "metadata": {
    "editable": true
   },
   "outputs": [],
   "source": [
    "# First drop the table in case it exists\n",
    "try:\n",
    "    rows = session.execute(\"drop table if exists user_history_sessions\")\n",
    "except Exception as e:\n",
    "    print(e)\n",
    "    \n",
    "# Then create the table\n",
    "try:\n",
    "    rows = session.execute(\"\"\"create table if not exists user_history_sessions (userId int,\n",
    "    sessionId int, itemInSession int, firstName text, lastName text,\n",
    "    song text, artist text, primary key ((userId, sessionId), itemInSession))\"\"\")\n",
    "except Exception as e:\n",
    "    print(e)"
   ]
  },
  {
   "cell_type": "markdown",
   "metadata": {
    "editable": true
   },
   "source": [
    "### Query 3: Give me every user name (first and last) in my music app history who listened to the song 'All Hands Against His Own'\n",
    "\n",
    "### The song table was created based on the query to select items based on the song name, and who listented to it (user), so song was chosen as the partition key and userId was chosen as the clustering key. In this table only song and userId tuple will be unique, as the history of the usage of each user is not desired, only one occurence from his usage."
   ]
  },
  {
   "cell_type": "code",
   "execution_count": 10,
   "metadata": {
    "editable": true
   },
   "outputs": [],
   "source": [
    "# First drop the table in case it exists\n",
    "try:\n",
    "    rows = session.execute(\"drop table if exists song_usage_history\")\n",
    "except Exception as e:\n",
    "    print(e)\n",
    "    \n",
    "# Then create the table\n",
    "try:\n",
    "    rows = session.execute(\"\"\"create table if not exists song_usage_history (song text, \n",
    "    userId int, firstName text, lastName text, primary key (song, userId))\"\"\")\n",
    "except Exception as e:\n",
    "    print(e)"
   ]
  },
  {
   "cell_type": "markdown",
   "metadata": {
    "editable": true
   },
   "source": [
    "#### <u>In the next cell, all corresponding values will be inserted to each table</u>"
   ]
  },
  {
   "cell_type": "code",
   "execution_count": 11,
   "metadata": {
    "editable": true
   },
   "outputs": [],
   "source": [
    "# Go through the csv file line by line and insert the corresponding values to each table.\n",
    "file = 'event_datafile_new.csv'\n",
    "\n",
    "with open(file, encoding = 'utf8') as f:\n",
    "    csvreader = csv.reader(f)\n",
    "    next(csvreader) # skip header\n",
    "    for line in csvreader:\n",
    "        # Assign the INSERT statements into the `query` variable for music_history table\n",
    "        query_music = \"\"\"insert into music_history (sessionId, itemInSession, artist, song, length)\"\"\"\n",
    "        query_music = query_music + \" values (%s, %s, %s, %s, %s) \"\n",
    "        # Assign which column element should be assigned for each column in the INSERT statement.\n",
    "        query_music_values = (int(line[headers.index('sessionId')]), int(line[headers.index('itemInSession')]),\\\n",
    "                                line[headers.index('artist')], line[headers.index('song')],\\\n",
    "                                float(line[headers.index('length')]))\n",
    "        session.execute(query_music, query_music_values)\n",
    "        \n",
    "        # Assign the INSERT statements into the `query` variable for user table\n",
    "        query_user = \"\"\"insert into user_history_sessions (userId, sessionId, itemInSession,\n",
    "        firstName, lastName, song, artist)\"\"\"\n",
    "        query_user = query_user + \" values (%s, %s, %s, %s, %s, %s, %s) \"\n",
    "        # Assign which column element should be assigned for each column in the INSERT statement.\n",
    "        query_user_values = (int(line[headers.index('userId')]), int(line[headers.index('sessionId')]),\\\n",
    "                                int(line[headers.index('itemInSession')]), line[headers.index('firstName')],\\\n",
    "                                line[headers.index('lastName')], line[headers.index('song')],\\\n",
    "                            line[headers.index('artist')])\n",
    "        session.execute(query_user, query_user_values)\n",
    "        \n",
    "        # Assign the INSERT statements into the `query` variable for song table\n",
    "        query_song = \"\"\"insert into song_usage_history (userId, firstName, lastName, song)\"\"\"\n",
    "        query_song = query_song + \" values (%s, %s, %s, %s) \"\n",
    "        # Assign which column element should be assigned for each column in the INSERT statement.\n",
    "        query_song_values = (int(line[headers.index('userId')]), line[headers.index('firstName')],\\\n",
    "                                line[headers.index('lastName')], line[headers.index('song')])\n",
    "        session.execute(query_song, query_song_values)"
   ]
  },
  {
   "cell_type": "markdown",
   "metadata": {
    "editable": true
   },
   "source": [
    "#### SELECT to verify that the data have been inserted into each table"
   ]
  },
  {
   "cell_type": "markdown",
   "metadata": {
    "editable": true
   },
   "source": [
    "#### First, the music table"
   ]
  },
  {
   "cell_type": "code",
   "execution_count": 12,
   "metadata": {
    "editable": true,
    "scrolled": true
   },
   "outputs": [],
   "source": [
    "# A simple function to query the music table\n",
    "def query_music(session_id_input, item_in_session_input):\n",
    "    # The music table quered by selecting the desired columns and quering by the primary keys sessionId and itemInSession\n",
    "    # as primary keys conditions, in this query artist, song and song length are needed so they were selected\n",
    "    \n",
    "    select_query_music = \"\"\"select artist, song, length from music_history where\\\n",
    "    sessionId = {} and itemInSession = {}\"\"\".format(session_id_input, item_in_session_input)\n",
    "\n",
    "    try:\n",
    "        rows = session.execute(select_query_music)\n",
    "    except Exception as e:\n",
    "        print(e)\n",
    "\n",
    "    if not rows:\n",
    "        print(\"The query result is empty\")\n",
    "    else:\n",
    "        music_query_list = []\n",
    "        for row in rows:\n",
    "            music_query_list.append(row)\n",
    "        df_music_query = pd.DataFrame(music_query_list)\n",
    "        display(df_music_query)"
   ]
  },
  {
   "cell_type": "code",
   "execution_count": 13,
   "metadata": {
    "editable": true
   },
   "outputs": [
    {
     "name": "stdout",
     "output_type": "stream",
     "text": [
      "-Give me the artist, song title and song's length in the music app history that was heard during sessionId = 338, and itemInSession  = 4\n"
     ]
    },
    {
     "data": {
      "text/html": [
       "<div>\n",
       "<style scoped>\n",
       "    .dataframe tbody tr th:only-of-type {\n",
       "        vertical-align: middle;\n",
       "    }\n",
       "\n",
       "    .dataframe tbody tr th {\n",
       "        vertical-align: top;\n",
       "    }\n",
       "\n",
       "    .dataframe thead th {\n",
       "        text-align: right;\n",
       "    }\n",
       "</style>\n",
       "<table border=\"1\" class=\"dataframe\">\n",
       "  <thead>\n",
       "    <tr style=\"text-align: right;\">\n",
       "      <th></th>\n",
       "      <th>artist</th>\n",
       "      <th>song</th>\n",
       "      <th>length</th>\n",
       "    </tr>\n",
       "  </thead>\n",
       "  <tbody>\n",
       "    <tr>\n",
       "      <th>0</th>\n",
       "      <td>Faithless</td>\n",
       "      <td>Music Matters (Mark Knight Dub)</td>\n",
       "      <td>495.307312</td>\n",
       "    </tr>\n",
       "  </tbody>\n",
       "</table>\n",
       "</div>"
      ],
      "text/plain": [
       "      artist                             song      length\n",
       "0  Faithless  Music Matters (Mark Knight Dub)  495.307312"
      ]
     },
     "metadata": {},
     "output_type": "display_data"
    }
   ],
   "source": [
    "# Running queris with certain inputs\n",
    "print(\"-Give me the artist, song title and song's length in the music app history that was heard during\\\n",
    " sessionId = 338, and itemInSession  = 4\")\n",
    "query_music(338,4)"
   ]
  },
  {
   "cell_type": "markdown",
   "metadata": {
    "editable": true
   },
   "source": [
    "##### So there is one row in the table satisfying this condition (sessionId = 338 and itemInSession = 4)"
   ]
  },
  {
   "cell_type": "markdown",
   "metadata": {
    "editable": true
   },
   "source": [
    "#### Second, the user_history_sessions table"
   ]
  },
  {
   "cell_type": "code",
   "execution_count": 14,
   "metadata": {
    "editable": true
   },
   "outputs": [],
   "source": [
    "# A simple function to query the user table\n",
    "def query_user(user_id_input, session_id_input):\n",
    "    # The user_history_sessions table quered by selecting the desired columns and quering by the primary keys userId and sessionId as primary\n",
    "    # keys conditions, in this query artist, song and user firstName and lastName are needed so they were selected,\n",
    "    # As itemInSession is defined as a clustering column, song will be sorted according to it.\n",
    "    \n",
    "    select_query_user = \"\"\"select artist, song, itemInSession, firstName, lastName from user_history_sessions where\\\n",
    "    userId = {} and sessionId = {}\"\"\".format(user_id_input, session_id_input)\n",
    "\n",
    "    try:\n",
    "        rows = session.execute(select_query_user)\n",
    "    except Exception as e:\n",
    "        print(e)\n",
    "\n",
    "    if not rows:\n",
    "        print(\"The query result is empty\")\n",
    "    else:\n",
    "        user_query_list = []\n",
    "        for row in rows:\n",
    "            user_query_list.append(row)\n",
    "        df_user_query = pd.DataFrame(user_query_list)\n",
    "        display(df_user_query)"
   ]
  },
  {
   "cell_type": "code",
   "execution_count": 15,
   "metadata": {
    "editable": true
   },
   "outputs": [
    {
     "name": "stdout",
     "output_type": "stream",
     "text": [
      "- Give me only the following: name of artist, song (sorted by itemInSession) anduser (first and last name) for userid = 10, sessionid = 182\n"
     ]
    },
    {
     "data": {
      "text/html": [
       "<div>\n",
       "<style scoped>\n",
       "    .dataframe tbody tr th:only-of-type {\n",
       "        vertical-align: middle;\n",
       "    }\n",
       "\n",
       "    .dataframe tbody tr th {\n",
       "        vertical-align: top;\n",
       "    }\n",
       "\n",
       "    .dataframe thead th {\n",
       "        text-align: right;\n",
       "    }\n",
       "</style>\n",
       "<table border=\"1\" class=\"dataframe\">\n",
       "  <thead>\n",
       "    <tr style=\"text-align: right;\">\n",
       "      <th></th>\n",
       "      <th>artist</th>\n",
       "      <th>song</th>\n",
       "      <th>iteminsession</th>\n",
       "      <th>firstname</th>\n",
       "      <th>lastname</th>\n",
       "    </tr>\n",
       "  </thead>\n",
       "  <tbody>\n",
       "    <tr>\n",
       "      <th>0</th>\n",
       "      <td>Down To The Bone</td>\n",
       "      <td>Keep On Keepin' On</td>\n",
       "      <td>0</td>\n",
       "      <td>Sylvie</td>\n",
       "      <td>Cruz</td>\n",
       "    </tr>\n",
       "    <tr>\n",
       "      <th>1</th>\n",
       "      <td>Three Drives</td>\n",
       "      <td>Greece 2000</td>\n",
       "      <td>1</td>\n",
       "      <td>Sylvie</td>\n",
       "      <td>Cruz</td>\n",
       "    </tr>\n",
       "    <tr>\n",
       "      <th>2</th>\n",
       "      <td>Sebastien Tellier</td>\n",
       "      <td>Kilometer</td>\n",
       "      <td>2</td>\n",
       "      <td>Sylvie</td>\n",
       "      <td>Cruz</td>\n",
       "    </tr>\n",
       "    <tr>\n",
       "      <th>3</th>\n",
       "      <td>Lonnie Gordon</td>\n",
       "      <td>Catch You Baby (Steve Pitron &amp; Max Sanna Radio...</td>\n",
       "      <td>3</td>\n",
       "      <td>Sylvie</td>\n",
       "      <td>Cruz</td>\n",
       "    </tr>\n",
       "  </tbody>\n",
       "</table>\n",
       "</div>"
      ],
      "text/plain": [
       "              artist                                               song  \\\n",
       "0   Down To The Bone                                 Keep On Keepin' On   \n",
       "1       Three Drives                                        Greece 2000   \n",
       "2  Sebastien Tellier                                          Kilometer   \n",
       "3      Lonnie Gordon  Catch You Baby (Steve Pitron & Max Sanna Radio...   \n",
       "\n",
       "   iteminsession firstname lastname  \n",
       "0              0    Sylvie     Cruz  \n",
       "1              1    Sylvie     Cruz  \n",
       "2              2    Sylvie     Cruz  \n",
       "3              3    Sylvie     Cruz  "
      ]
     },
     "metadata": {},
     "output_type": "display_data"
    }
   ],
   "source": [
    "## Running queris with certain inputs\n",
    "print(\"- Give me only the following: name of artist, song (sorted by itemInSession) and\\\n",
    "user (first and last name) for userid = 10, sessionid = 182\")\n",
    "query_user(10,182)\n"
   ]
  },
  {
   "cell_type": "markdown",
   "metadata": {
    "editable": true
   },
   "source": [
    "##### Great, 4 rows as a results, and they are sorted by itemInSession as requested\n",
    "                    "
   ]
  },
  {
   "cell_type": "markdown",
   "metadata": {
    "editable": true
   },
   "source": [
    "#### Third and last, the song_usage_history table"
   ]
  },
  {
   "cell_type": "code",
   "execution_count": 16,
   "metadata": {
    "editable": true
   },
   "outputs": [],
   "source": [
    "# A simple function to query the song table\n",
    "def query_song(song_input):\n",
    "    # The song_usage_history table quered by selecting the desired columns and quering by the primary key which is song \n",
    "    # in this query user firstName and lastName are needed so they were selected,\n",
    "    # As userId is defined as a clustering column, songs will be sorted according to it.\n",
    "    select_query_song = \"\"\"select song, userId, firstName, lastName from song_usage_history where song = '{}'\\\n",
    "    \"\"\".format(song_input)\n",
    "\n",
    "    try:\n",
    "        rows = session.execute(select_query_song)\n",
    "    except Exception as e:\n",
    "        print(e)\n",
    "\n",
    "    if not rows:\n",
    "        print(\"The query result is empty\")\n",
    "    else:\n",
    "        song_query_list = []\n",
    "        for row in rows:\n",
    "            song_query_list.append(row)\n",
    "        df_song_query = pd.DataFrame(song_query_list)\n",
    "        display(df_song_query)"
   ]
  },
  {
   "cell_type": "code",
   "execution_count": 17,
   "metadata": {
    "editable": true
   },
   "outputs": [
    {
     "name": "stdout",
     "output_type": "stream",
     "text": [
      "- Give me every user name (first and last) in my music app history who listened tothe song 'All Hands Against His Own'\n"
     ]
    },
    {
     "data": {
      "text/html": [
       "<div>\n",
       "<style scoped>\n",
       "    .dataframe tbody tr th:only-of-type {\n",
       "        vertical-align: middle;\n",
       "    }\n",
       "\n",
       "    .dataframe tbody tr th {\n",
       "        vertical-align: top;\n",
       "    }\n",
       "\n",
       "    .dataframe thead th {\n",
       "        text-align: right;\n",
       "    }\n",
       "</style>\n",
       "<table border=\"1\" class=\"dataframe\">\n",
       "  <thead>\n",
       "    <tr style=\"text-align: right;\">\n",
       "      <th></th>\n",
       "      <th>song</th>\n",
       "      <th>userid</th>\n",
       "      <th>firstname</th>\n",
       "      <th>lastname</th>\n",
       "    </tr>\n",
       "  </thead>\n",
       "  <tbody>\n",
       "    <tr>\n",
       "      <th>0</th>\n",
       "      <td>All Hands Against His Own</td>\n",
       "      <td>29</td>\n",
       "      <td>Jacqueline</td>\n",
       "      <td>Lynch</td>\n",
       "    </tr>\n",
       "    <tr>\n",
       "      <th>1</th>\n",
       "      <td>All Hands Against His Own</td>\n",
       "      <td>80</td>\n",
       "      <td>Tegan</td>\n",
       "      <td>Levine</td>\n",
       "    </tr>\n",
       "    <tr>\n",
       "      <th>2</th>\n",
       "      <td>All Hands Against His Own</td>\n",
       "      <td>95</td>\n",
       "      <td>Sara</td>\n",
       "      <td>Johnson</td>\n",
       "    </tr>\n",
       "  </tbody>\n",
       "</table>\n",
       "</div>"
      ],
      "text/plain": [
       "                        song  userid   firstname lastname\n",
       "0  All Hands Against His Own      29  Jacqueline    Lynch\n",
       "1  All Hands Against His Own      80       Tegan   Levine\n",
       "2  All Hands Against His Own      95        Sara  Johnson"
      ]
     },
     "metadata": {},
     "output_type": "display_data"
    }
   ],
   "source": [
    "# Running queris with certain inputs\n",
    "print(\"- Give me every user name (first and last) in my music app history who listened to\\\n",
    "the song 'All Hands Against His Own'\")\n",
    "query_song('All Hands Against His Own')"
   ]
  },
  {
   "cell_type": "markdown",
   "metadata": {
    "editable": true
   },
   "source": [
    "#### So now we insured that the 3 tables are populated"
   ]
  },
  {
   "cell_type": "markdown",
   "metadata": {
    "editable": true
   },
   "source": [
    "### Drop the tables before closing out the sessions"
   ]
  },
  {
   "cell_type": "code",
   "execution_count": 18,
   "metadata": {
    "editable": true
   },
   "outputs": [],
   "source": [
    "# Drop the tables before closing out the sessions\n",
    "\n",
    "# drop music_history\n",
    "try:\n",
    "    rows = session.execute(\"drop table if exists music_history\")\n",
    "except Exception as e:\n",
    "    print(e)\n",
    "    \n",
    "    \n",
    "# drop song_usage_history table\n",
    "try:\n",
    "    rows = session.execute(\"drop table if exists song_usage_history\")\n",
    "except Exception as e:\n",
    "    print(e)\n",
    "    \n",
    "# drop user_history_sessions table\n",
    "try:\n",
    "    rows = session.execute(\"drop table if exists user_history_sessions\")\n",
    "except Exception as e:\n",
    "    print(e)"
   ]
  },
  {
   "cell_type": "markdown",
   "metadata": {
    "editable": true
   },
   "source": [
    "### Close the session and cluster connection¶"
   ]
  },
  {
   "cell_type": "code",
   "execution_count": 19,
   "metadata": {
    "editable": true
   },
   "outputs": [],
   "source": [
    "session.shutdown()\n",
    "cluster.shutdown()"
   ]
  },
  {
   "cell_type": "code",
   "execution_count": null,
   "metadata": {
    "editable": true
   },
   "outputs": [],
   "source": []
  }
 ],
 "metadata": {
  "kernelspec": {
   "display_name": "Python 3",
   "language": "python",
   "name": "python3"
  },
  "language_info": {
   "codemirror_mode": {
    "name": "ipython",
    "version": 3
   },
   "file_extension": ".py",
   "mimetype": "text/x-python",
   "name": "python",
   "nbconvert_exporter": "python",
   "pygments_lexer": "ipython3",
   "version": "3.6.3"
  }
 },
 "nbformat": 4,
 "nbformat_minor": 4
}
